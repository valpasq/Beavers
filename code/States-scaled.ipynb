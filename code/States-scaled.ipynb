{
 "cells": [
  {
   "cell_type": "code",
   "execution_count": 1,
   "metadata": {
    "collapsed": false
   },
   "outputs": [
    {
     "name": "stdout",
     "output_type": "stream",
     "text": [
      "Populating the interactive namespace from numpy and matplotlib\n"
     ]
    }
   ],
   "source": [
    "%pylab inline\n",
    "\n",
    "import numpy as np\n",
    "import pandas as pd\n",
    "import matplotlib.pyplot as plt\n",
    "import seaborn\n",
    "import datetime as dt\n",
    "from osgeo import gdal, gdal_array"
   ]
  },
  {
   "cell_type": "code",
   "execution_count": 2,
   "metadata": {
    "collapsed": true
   },
   "outputs": [],
   "source": [
    "import yatsm\n",
    "from yatsm.io import read_pixel_timeseries\n",
    "from yatsm.utils import csvfile_to_dataframe, get_image_IDs\n",
    "from yatsm.config_parser import convert_config, parse_config_file\n",
    "from yatsm.config_parser import convert_config, parse_config_file\n",
    "import yatsm._cyprep as cyprep"
   ]
  },
  {
   "cell_type": "code",
   "execution_count": 3,
   "metadata": {
    "collapsed": true
   },
   "outputs": [],
   "source": [
    "# Define image reading function\n",
    "def read_image(f):\n",
    "    ds = gdal.Open(f, gdal.GA_ReadOnly)\n",
    "    return ds.GetRasterBand(1).ReadAsArray()"
   ]
  },
  {
   "cell_type": "code",
   "execution_count": 4,
   "metadata": {
    "collapsed": false,
    "scrolled": true
   },
   "outputs": [
    {
     "name": "stdout",
     "output_type": "stream",
     "text": [
      "Shape of example image:\n",
      "(51, 77)\n"
     ]
    }
   ],
   "source": [
    "example_img_fn = '/projectnb/landsat/projects/Massachusetts/Broadmoor_small/images/example_img'\n",
    "example_img = read_image(example_img_fn)\n",
    "print('Shape of example image:')\n",
    "print(example_img.shape)"
   ]
  },
  {
   "cell_type": "code",
   "execution_count": 5,
   "metadata": {
    "collapsed": false
   },
   "outputs": [],
   "source": [
    "## SPECIFY CONFIG FILE\n",
    "config_file = '/projectnb/landsat/projects/Massachusetts/Broadmoor_small/Broadmoor_config_pixel.yaml'\n",
    "\n",
    "# Read in and parse config file\n",
    "cfg = parse_config_file(config_file)"
   ]
  },
  {
   "cell_type": "code",
   "execution_count": 6,
   "metadata": {
    "collapsed": true
   },
   "outputs": [],
   "source": [
    "# Get files list\n",
    "df = csvfile_to_dataframe(cfg['dataset']['input_file'], \\\n",
    "                          date_format=cfg['dataset']['date_format'])"
   ]
  },
  {
   "cell_type": "code",
   "execution_count": 69,
   "metadata": {
    "collapsed": false
   },
   "outputs": [
    {
     "data": {
      "text/plain": [
       "(51, 77, 29)"
      ]
     },
     "execution_count": 69,
     "metadata": {},
     "output_type": "execute_result"
    }
   ],
   "source": [
    "disturbances.shape"
   ]
  },
  {
   "cell_type": "code",
   "execution_count": 91,
   "metadata": {
    "collapsed": false,
    "scrolled": false
   },
   "outputs": [
    {
     "name": "stdout",
     "output_type": "stream",
     "text": [
      "working on row 0\n",
      "working on row 1\n",
      "working on row 2\n",
      "working on row 3\n",
      "working on row 4\n",
      "working on row 5\n",
      "working on row 6\n",
      "working on row 7\n",
      "working on row 8\n",
      "working on row 9\n",
      "working on row 10\n",
      "working on row 11\n",
      "working on row 12\n",
      "working on row 13\n",
      "working on row 14\n",
      "working on row 15\n",
      "working on row 16\n",
      "working on row 17\n",
      "working on row 18\n",
      "working on row 19\n",
      "working on row 20\n",
      "working on row 21\n",
      "working on row 22\n",
      "working on row 23\n",
      "working on row 24\n",
      "working on row 25\n",
      "working on row 26\n",
      "working on row 27\n",
      "working on row 28\n",
      "working on row 29\n",
      "working on row 30\n",
      "working on row 31\n",
      "working on row 32\n",
      "working on row 33\n",
      "working on row 34\n",
      "working on row 35\n",
      "working on row 36\n",
      "working on row 37\n",
      "working on row 38\n",
      "working on row 39\n",
      "working on row 40\n",
      "working on row 41\n",
      "working on row 42\n",
      "working on row 43\n",
      "working on row 44\n",
      "working on row 45\n",
      "working on row 46\n",
      "working on row 47\n",
      "working on row 48\n",
      "working on row 49\n",
      "working on row 50\n"
     ]
    }
   ],
   "source": [
    "site = 'BM'\n",
    "\n",
    "# Parameters\n",
    "T_TCB_diff = -500\n",
    "T_TCB_sum = -500\n",
    "\n",
    "T_TCG_veg = 0.75   # % reduction in TCG\n",
    "T_TCG_open = 750\n",
    "\n",
    "py_dim = example_img.shape[0]\n",
    "px_dim = example_img.shape[1]\n",
    "\n",
    "disturbances = np.zeros((py_dim, px_dim, 29))\n",
    "veg_cond = np.zeros((py_dim, px_dim, 29))\n",
    "\n",
    "for py in list(range(0, py_dim)): # row iterator\n",
    "    print('working on row {py}'.format(py=py))\n",
    "    \n",
    "    for px in list(range(0, px_dim)): # column iterator\n",
    "        #print(px)\n",
    "        # Get dates\n",
    "        df['image_ID'] = get_image_IDs(df['filename']) \n",
    "        df['x'] = df['date'] \n",
    "        dates = df['date'].values\n",
    "\n",
    "        # Read in time series as numpy array\n",
    "        Y = read_pixel_timeseries(df['filename'], px, py)\n",
    "        \n",
    "        if np.all(Y[0] == -9999): \n",
    "            pass\n",
    "        else:\n",
    "            # Mask based on physical constraints and Fmask \n",
    "            valid = cyprep.get_valid_mask( \\\n",
    "                        Y, \\\n",
    "                        cfg['dataset']['min_values'], \\\n",
    "                        cfg['dataset']['max_values']).astype(bool)\n",
    "\n",
    "            # Apply mask band\n",
    "            idx_mask = cfg['dataset']['mask_band'] - 1\n",
    "            valid *= np.in1d(Y.take(idx_mask, axis=0), \\\n",
    "                                     cfg['dataset']['mask_values'], \\\n",
    "                                     invert=True).astype(np.bool)\n",
    "\n",
    "            # mask time series using fmask result\n",
    "            Y_fmask = np.delete(Y, idx_mask, axis=0)[:, valid]\n",
    "            dates_fmask = dates[valid]\n",
    "\n",
    "            # multitemporal mask - original time series (no fmask)\n",
    "            multitemp1 = np.where(Y[1] < (np.mean(Y_fmask[1])+np.std(Y_fmask[1])*3))\n",
    "            dates_multi = dates[multitemp1[0]] # mask where green > 3 stddev\n",
    "            Y_multi = Y[:, multitemp1[0]]\n",
    "            multitemp2 = np.where(Y_multi[4] > (np.mean(Y_fmask[4])-np.std(Y_fmask[4])*3))\n",
    "            dates_multi = dates_multi[multitemp2[0]] # mask where swir < 3 std dev\n",
    "            Y_multi = Y_multi[:, multitemp2[0]]\n",
    "\n",
    "            # multi-temporal mask - fmask time series\n",
    "            multitemp1_fmask = np.where(Y_fmask[1] < (np.mean(Y_fmask[1])+np.std(Y_fmask[1])*3))\n",
    "            dates_fmask = dates_fmask[multitemp1_fmask[0]] # mask where green > 3 stddev\n",
    "            Y_fmask = Y_fmask[:, multitemp1_fmask[0]]\n",
    "            multitemp2_fmask = np.where(Y_fmask[4] > (np.mean(Y_fmask[4])-np.std(Y_fmask[4])*3))\n",
    "            dates_fmask = dates_fmask[multitemp2_fmask[0]] # mask where swir < 3 std dev\n",
    "            Y_fmask = Y_fmask[:, multitemp2_fmask[0]]\n",
    "\n",
    "            # convert time from ordinal to dates\n",
    "            dt_dates_multi = np.array([dt.datetime.fromordinal(d) for d in dates_multi])\n",
    "            dt_dates_fmask = np.array([dt.datetime.fromordinal(d) for d in dates_fmask])\n",
    "\n",
    "            # Create dataframes for analysis\n",
    "            # Fmasked + multitemporal masked data (for TCB TS)\n",
    "            shp_ = dt_dates_fmask.shape[0]\n",
    "            dt_dates_fmask_csv = dt_dates_fmask.reshape(shp_, 1)\n",
    "            Y_fmask_csv = np.transpose(Y_fmask)\n",
    "            data_fmask = np.concatenate([dt_dates_fmask_csv, Y_fmask_csv], axis=1)\n",
    "            col_names = ['date', 'blue', 'green', 'red', 'nir', 'swir1', 'swir2', 'therm', 'tcb', 'tcg', 'tcw']\n",
    "            band_names = ['blue', 'green', 'red', 'nir', 'swir1', 'swir2', 'therm', 'tcb', 'tcg', 'tcw']\n",
    "            data_fmask_df = pd.DataFrame(data_fmask, columns=col_names)\n",
    "            data_fmask_df[band_names] = data_fmask_df[band_names].astype(int) # convert reflectance to int\n",
    "            year_group_fmask = data_fmask_df.groupby(data_fmask_df.date.dt.year) # annual time series\n",
    "            years_fmask = np.asarray(year_group_fmask.groups.keys()) # years in time series\n",
    "            years_fmask = years_fmask.astype(int)\n",
    "\n",
    "            # Multitemporal only masked data (for TCG TS)\n",
    "            shp_ = dt_dates_multi.shape[0]\n",
    "            dt_dates_multi_csv = dt_dates_multi.reshape(shp_, 1)\n",
    "            Y_multi_csv = np.transpose(Y_multi)\n",
    "            data_multi = np.concatenate([dt_dates_multi_csv, Y_multi_csv], axis=1)\n",
    "            col_names = ['date', 'blue', 'green', 'red', 'nir', 'swir1', 'swir2', 'therm', 'tcb', 'tcg', 'tcw', 'fmask']\n",
    "            band_names = ['blue', 'green', 'red', 'nir', 'swir1', 'swir2', 'therm', 'tcb', 'tcg', 'tcw']\n",
    "            data_multi_df = pd.DataFrame(data_multi, columns=col_names)\n",
    "            data_multi_df[band_names] = data_multi_df[band_names].astype(int) # convert reflectance to int\n",
    "            year_group_multi = data_multi_df.groupby(data_multi_df.date.dt.year) # annual time series\n",
    "            years_multi = np.asarray(year_group_multi.groups.keys()) # years in time series\n",
    "            years_multi = years_multi.astype(int)\n",
    "\n",
    "            # TC Brightness Change Detection - Flood\n",
    "            TCB_mean = year_group_fmask['tcb'].mean()\n",
    "            TCB_mean_diff = np.diff(TCB_mean)\n",
    "            TCB_mean_sum = np.cumsum(TCB_mean_diff)\n",
    "            #flood_TCB_diff = years_fmask[np.where(TCB_mean_diff < T_TCB_diff)]\n",
    "            #flood_TCB_sum = years_fmask[np.where(TCB_mean_sum < T_TCB_sum)]\n",
    "\n",
    "            # TC Greenness Change Detection - Vegetation\n",
    "            TCG_min = year_group_multi['tcg'].min()\n",
    "            TCG_max = year_group_multi['tcg'].max()           \n",
    "            TCG_amp = np.asarray(TCG_max - TCG_min)\n",
    "            TCG_amp_adj = TCG_amp.astype(float) / TCG_amp[0].astype(float) # scale by first values (assume forest conditions)\n",
    "            #flood_TCG_veg = years_multi[np.where(TCG_amp_adj < T_TCG_veg)]\n",
    "            #flood_TCG_open = years_multi[np.where(TCG_amp < T_TCG_open)]\n",
    "\n",
    "            length = (years_fmask.size - 1)\n",
    "            for index, year in enumerate(years_fmask): \n",
    "                if index < length:\n",
    "                    if (((TCB_mean_diff[index] < T_TCB_diff) and (TCG_amp_adj[index+1] < T_TCG_veg)) or \\\n",
    "                         ((TCB_mean_sum[index] < T_TCB_sum) and (TCG_amp_adj[index+1] < T_TCG_veg))):\n",
    "                        disturbances[py, px, index] = year\n",
    "                        #print('{row}, {col} - {year}'.format(row=py, col=px, year=year))\n",
    "                    else:\n",
    "                        continue\n",
    "\n",
    "            for index, year in enumerate(years_fmask):\n",
    "                if index < length:\n",
    "                    if (TCG_amp[index] < T_TCG_open): \n",
    "                        veg_cond[py, px, index] = 1\n",
    "                    elif (TCG_amp_adj[index] > T_TCG_veg and TCG_amp_adj[index] <= 1:   \n",
    "                        veg_cond[py, px, index] = 2\n",
    "                    else:\n",
    "                        veg_cond[py, px, index] = 3\n",
    "                else:\n",
    "                    continue          \n"
   ]
  },
  {
   "cell_type": "code",
   "execution_count": 92,
   "metadata": {
    "collapsed": false
   },
   "outputs": [],
   "source": [
    "in_ds = gdal.Open(example_img_fn, gdal.GA_ReadOnly)\n",
    "\n",
    "# Output disturbance map for each year\n",
    "for index, year in enumerate(years_fmask):\n",
    "    if index < length:\n",
    "        disturbance_fn = './{year}_disturbance.tif'.format(year=year)\n",
    "\n",
    "        out_driver = gdal.GetDriverByName(\"GTiff\")\n",
    "        out_ds = out_driver.Create(disturbance_fn, \n",
    "                                   example_img.shape[1],  # x size\n",
    "                                   example_img.shape[0],  # y size\n",
    "                                   1,  # number of bands\n",
    "                                   gdal.GDT_UInt32)\n",
    "        out_ds.SetProjection(in_ds.GetProjection())\n",
    "        out_ds.SetGeoTransform(in_ds.GetGeoTransform())\n",
    "        out_ds.GetRasterBand(1).WriteArray(disturbances[:, :, index])\n",
    "        out_ds.GetRasterBand(1).SetNoDataValue(0)\n",
    "        out_ds.GetRasterBand(1).SetDescription('Beaver Disturbances')\n",
    "        out_ds = None"
   ]
  },
  {
   "cell_type": "code",
   "execution_count": 95,
   "metadata": {
    "collapsed": false
   },
   "outputs": [],
   "source": [
    "# Output disturbance map for each year\n",
    "for index, year in enumerate(years_fmask):\n",
    "    if index < length:\n",
    "        disturbance_fn = './{year}_vegetation.tif'.format(year=year)\n",
    "\n",
    "        out_driver = gdal.GetDriverByName(\"GTiff\")\n",
    "        out_ds = out_driver.Create(disturbance_fn, \n",
    "                                   example_img.shape[1],  # x size\n",
    "                                   example_img.shape[0],  # y size\n",
    "                                   1,  # number of bands\n",
    "                                   gdal.GDT_UInt32)\n",
    "        out_ds.SetProjection(in_ds.GetProjection())\n",
    "        out_ds.SetGeoTransform(in_ds.GetGeoTransform())\n",
    "        out_ds.GetRasterBand(1).WriteArray(veg_cond[:, :, index])\n",
    "        out_ds.GetRasterBand(1).SetNoDataValue(0)\n",
    "        out_ds.GetRasterBand(1).SetDescription('Vegetation condition')\n",
    "        out_ds = None"
   ]
  },
  {
   "cell_type": "code",
   "execution_count": null,
   "metadata": {
    "collapsed": false
   },
   "outputs": [],
   "source": []
  },
  {
   "cell_type": "code",
   "execution_count": 15,
   "metadata": {
    "collapsed": false
   },
   "outputs": [],
   "source": []
  },
  {
   "cell_type": "code",
   "execution_count": null,
   "metadata": {
    "collapsed": false
   },
   "outputs": [],
   "source": []
  },
  {
   "cell_type": "code",
   "execution_count": null,
   "metadata": {
    "collapsed": false
   },
   "outputs": [],
   "source": []
  },
  {
   "cell_type": "code",
   "execution_count": null,
   "metadata": {
    "collapsed": false
   },
   "outputs": [],
   "source": []
  },
  {
   "cell_type": "code",
   "execution_count": null,
   "metadata": {
    "collapsed": true
   },
   "outputs": [],
   "source": []
  },
  {
   "cell_type": "code",
   "execution_count": null,
   "metadata": {
    "collapsed": false
   },
   "outputs": [],
   "source": []
  },
  {
   "cell_type": "code",
   "execution_count": null,
   "metadata": {
    "collapsed": false
   },
   "outputs": [],
   "source": []
  },
  {
   "cell_type": "code",
   "execution_count": null,
   "metadata": {
    "collapsed": false
   },
   "outputs": [],
   "source": []
  },
  {
   "cell_type": "code",
   "execution_count": null,
   "metadata": {
    "collapsed": false
   },
   "outputs": [],
   "source": []
  },
  {
   "cell_type": "code",
   "execution_count": null,
   "metadata": {
    "collapsed": false
   },
   "outputs": [],
   "source": []
  },
  {
   "cell_type": "code",
   "execution_count": null,
   "metadata": {
    "collapsed": false
   },
   "outputs": [],
   "source": [
    " "
   ]
  },
  {
   "cell_type": "code",
   "execution_count": null,
   "metadata": {
    "collapsed": true
   },
   "outputs": [],
   "source": []
  },
  {
   "cell_type": "code",
   "execution_count": null,
   "metadata": {
    "collapsed": false
   },
   "outputs": [],
   "source": []
  },
  {
   "cell_type": "code",
   "execution_count": null,
   "metadata": {
    "collapsed": false
   },
   "outputs": [],
   "source": []
  },
  {
   "cell_type": "code",
   "execution_count": null,
   "metadata": {
    "collapsed": false
   },
   "outputs": [],
   "source": []
  },
  {
   "cell_type": "code",
   "execution_count": null,
   "metadata": {
    "collapsed": false
   },
   "outputs": [],
   "source": []
  },
  {
   "cell_type": "code",
   "execution_count": null,
   "metadata": {
    "collapsed": false
   },
   "outputs": [],
   "source": []
  },
  {
   "cell_type": "code",
   "execution_count": null,
   "metadata": {
    "collapsed": false
   },
   "outputs": [],
   "source": []
  },
  {
   "cell_type": "code",
   "execution_count": null,
   "metadata": {
    "collapsed": false
   },
   "outputs": [],
   "source": []
  },
  {
   "cell_type": "code",
   "execution_count": null,
   "metadata": {
    "collapsed": false
   },
   "outputs": [],
   "source": []
  },
  {
   "cell_type": "code",
   "execution_count": null,
   "metadata": {
    "collapsed": false
   },
   "outputs": [],
   "source": []
  },
  {
   "cell_type": "code",
   "execution_count": 428,
   "metadata": {
    "collapsed": false
   },
   "outputs": [],
   "source": []
  },
  {
   "cell_type": "code",
   "execution_count": null,
   "metadata": {
    "collapsed": false
   },
   "outputs": [],
   "source": []
  },
  {
   "cell_type": "code",
   "execution_count": null,
   "metadata": {
    "collapsed": false
   },
   "outputs": [],
   "source": []
  },
  {
   "cell_type": "code",
   "execution_count": null,
   "metadata": {
    "collapsed": false
   },
   "outputs": [],
   "source": []
  },
  {
   "cell_type": "code",
   "execution_count": null,
   "metadata": {
    "collapsed": false
   },
   "outputs": [],
   "source": []
  },
  {
   "cell_type": "code",
   "execution_count": null,
   "metadata": {
    "collapsed": false
   },
   "outputs": [],
   "source": []
  },
  {
   "cell_type": "code",
   "execution_count": null,
   "metadata": {
    "collapsed": false
   },
   "outputs": [],
   "source": []
  },
  {
   "cell_type": "code",
   "execution_count": null,
   "metadata": {
    "collapsed": false
   },
   "outputs": [],
   "source": []
  },
  {
   "cell_type": "code",
   "execution_count": null,
   "metadata": {
    "collapsed": false
   },
   "outputs": [],
   "source": []
  }
 ],
 "metadata": {
  "kernelspec": {
   "display_name": "Python 2",
   "language": "python",
   "name": "python2"
  },
  "language_info": {
   "codemirror_mode": {
    "name": "ipython",
    "version": 2
   },
   "file_extension": ".py",
   "mimetype": "text/x-python",
   "name": "python",
   "nbconvert_exporter": "python",
   "pygments_lexer": "ipython2",
   "version": "2.7.10"
  }
 },
 "nbformat": 4,
 "nbformat_minor": 0
}
